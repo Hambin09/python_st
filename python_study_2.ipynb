{
  "nbformat": 4,
  "nbformat_minor": 0,
  "metadata": {
    "colab": {
      "name": "python_study_2.ipynb",
      "provenance": []
    },
    "kernelspec": {
      "name": "python3",
      "display_name": "Python 3"
    },
    "language_info": {
      "name": "python"
    }
  },
  "cells": [
    {
      "cell_type": "code",
      "execution_count": 1,
      "metadata": {
        "colab": {
          "base_uri": "https://localhost:8080/"
        },
        "id": "tXenR108oMiT",
        "outputId": "f313cc82-c552-4052-94af-21afa0698060"
      },
      "outputs": [
        {
          "output_type": "execute_result",
          "data": {
            "text/plain": [
              "[1, 2, 3, 4, 5, 6, 7, 8, 9, 10]"
            ]
          },
          "metadata": {},
          "execution_count": 1
        }
      ],
      "source": [
        "arr = [1,2,3,4,5,6,7,8,9,10]\n",
        "arr"
      ]
    },
    {
      "cell_type": "code",
      "source": [
        "arr[0]"
      ],
      "metadata": {
        "colab": {
          "base_uri": "https://localhost:8080/"
        },
        "id": "0ifUDUNyuCB-",
        "outputId": "7885cddc-4d76-4801-e5d0-6445e276fd22"
      },
      "execution_count": 2,
      "outputs": [
        {
          "output_type": "execute_result",
          "data": {
            "text/plain": [
              "1"
            ]
          },
          "metadata": {},
          "execution_count": 2
        }
      ]
    },
    {
      "cell_type": "code",
      "source": [
        "arr[4]"
      ],
      "metadata": {
        "colab": {
          "base_uri": "https://localhost:8080/"
        },
        "id": "TPUgHglOuKJ3",
        "outputId": "11c1393d-9bf7-465b-ae11-b5873d1da0a5"
      },
      "execution_count": 3,
      "outputs": [
        {
          "output_type": "execute_result",
          "data": {
            "text/plain": [
              "5"
            ]
          },
          "metadata": {},
          "execution_count": 3
        }
      ]
    },
    {
      "cell_type": "code",
      "source": [
        "arr[0:6]"
      ],
      "metadata": {
        "colab": {
          "base_uri": "https://localhost:8080/"
        },
        "id": "TKrK7Ur0uMjN",
        "outputId": "cefd174a-1fd3-4048-b3f9-9f7f10afc0a9"
      },
      "execution_count": 4,
      "outputs": [
        {
          "output_type": "execute_result",
          "data": {
            "text/plain": [
              "[1, 2, 3, 4, 5, 6]"
            ]
          },
          "metadata": {},
          "execution_count": 4
        }
      ]
    },
    {
      "cell_type": "code",
      "source": [
        "len(arr)"
      ],
      "metadata": {
        "colab": {
          "base_uri": "https://localhost:8080/"
        },
        "id": "XPKjImzbuk1W",
        "outputId": "63bb3e6c-0ff3-4aa4-a6a0-0edcfeb9e2d8"
      },
      "execution_count": 5,
      "outputs": [
        {
          "output_type": "execute_result",
          "data": {
            "text/plain": [
              "10"
            ]
          },
          "metadata": {},
          "execution_count": 5
        }
      ]
    },
    {
      "cell_type": "code",
      "source": [
        "arr*2"
      ],
      "metadata": {
        "colab": {
          "base_uri": "https://localhost:8080/"
        },
        "id": "aO2deX_ovfM0",
        "outputId": "3d864cc4-0602-43d7-b309-02ad1a713572"
      },
      "execution_count": 6,
      "outputs": [
        {
          "output_type": "execute_result",
          "data": {
            "text/plain": [
              "[1, 2, 3, 4, 5, 6, 7, 8, 9, 10, 1, 2, 3, 4, 5, 6, 7, 8, 9, 10]"
            ]
          },
          "metadata": {},
          "execution_count": 6
        }
      ]
    },
    {
      "cell_type": "code",
      "source": [
        "arr=[1,2,3]\n",
        "arr.append(4)\n",
        "arr"
      ],
      "metadata": {
        "colab": {
          "base_uri": "https://localhost:8080/"
        },
        "id": "8vJuIe0qvkLB",
        "outputId": "4813d4db-7a13-4ea5-a22e-2fa8e32d8811"
      },
      "execution_count": 7,
      "outputs": [
        {
          "output_type": "execute_result",
          "data": {
            "text/plain": [
              "[1, 2, 3, 4]"
            ]
          },
          "metadata": {},
          "execution_count": 7
        }
      ]
    },
    {
      "cell_type": "code",
      "source": [
        "arr[2]=5\n",
        "arr"
      ],
      "metadata": {
        "colab": {
          "base_uri": "https://localhost:8080/"
        },
        "id": "x4mUv0HxvtDc",
        "outputId": "e19ef126-7ed5-4145-b230-faa617e085f6"
      },
      "execution_count": 8,
      "outputs": [
        {
          "output_type": "execute_result",
          "data": {
            "text/plain": [
              "[1, 2, 5, 4]"
            ]
          },
          "metadata": {},
          "execution_count": 8
        }
      ]
    },
    {
      "cell_type": "code",
      "source": [
        "arr.insert(1,8)\n",
        "arr"
      ],
      "metadata": {
        "colab": {
          "base_uri": "https://localhost:8080/"
        },
        "id": "WEH1un7Evw1F",
        "outputId": "71cf152c-9ec3-4ff3-a3b9-a7bff0b9c61d"
      },
      "execution_count": 9,
      "outputs": [
        {
          "output_type": "execute_result",
          "data": {
            "text/plain": [
              "[1, 8, 2, 5, 4]"
            ]
          },
          "metadata": {},
          "execution_count": 9
        }
      ]
    },
    {
      "cell_type": "code",
      "source": [
        "tup = (1,2,3)\n",
        "tup[0]"
      ],
      "metadata": {
        "colab": {
          "base_uri": "https://localhost:8080/"
        },
        "id": "ErsmaLynv312",
        "outputId": "b61cef86-a447-4e44-cddb-4ca83cd45105"
      },
      "execution_count": 10,
      "outputs": [
        {
          "output_type": "execute_result",
          "data": {
            "text/plain": [
              "1"
            ]
          },
          "metadata": {},
          "execution_count": 10
        }
      ]
    },
    {
      "cell_type": "code",
      "source": [
        "tup[1]=4"
      ],
      "metadata": {
        "colab": {
          "base_uri": "https://localhost:8080/",
          "height": 172
        },
        "id": "ZmzoDp_5yVCd",
        "outputId": "3936cbe3-29b4-484b-f3a6-8b667635e218"
      },
      "execution_count": 12,
      "outputs": [
        {
          "output_type": "error",
          "ename": "TypeError",
          "evalue": "ignored",
          "traceback": [
            "\u001b[0;31m---------------------------------------------------------------------------\u001b[0m",
            "\u001b[0;31mTypeError\u001b[0m                                 Traceback (most recent call last)",
            "\u001b[0;32m<ipython-input-12-29d141a92f83>\u001b[0m in \u001b[0;36m<module>\u001b[0;34m()\u001b[0m\n\u001b[0;32m----> 1\u001b[0;31m \u001b[0mtup\u001b[0m\u001b[0;34m[\u001b[0m\u001b[0;36m1\u001b[0m\u001b[0;34m]\u001b[0m\u001b[0;34m=\u001b[0m\u001b[0;36m4\u001b[0m\u001b[0;34m\u001b[0m\u001b[0;34m\u001b[0m\u001b[0m\n\u001b[0m",
            "\u001b[0;31mTypeError\u001b[0m: 'tuple' object does not support item assignment"
          ]
        }
      ]
    },
    {
      "cell_type": "code",
      "source": [
        "arr.remove(4)\n",
        "arr"
      ],
      "metadata": {
        "colab": {
          "base_uri": "https://localhost:8080/"
        },
        "id": "G4txCUKLyZ49",
        "outputId": "15944fdc-d08b-4677-b2f3-1fd35eb31f71"
      },
      "execution_count": 13,
      "outputs": [
        {
          "output_type": "execute_result",
          "data": {
            "text/plain": [
              "[1, 8, 2, 5]"
            ]
          },
          "metadata": {},
          "execution_count": 13
        }
      ]
    },
    {
      "cell_type": "code",
      "source": [
        "arr.pop()\n",
        "arr"
      ],
      "metadata": {
        "colab": {
          "base_uri": "https://localhost:8080/"
        },
        "id": "2g1pQBto4SCs",
        "outputId": "13ad6d5e-2081-4628-d07a-e8beebe25a29"
      },
      "execution_count": 14,
      "outputs": [
        {
          "output_type": "execute_result",
          "data": {
            "text/plain": [
              "[1, 8, 2]"
            ]
          },
          "metadata": {},
          "execution_count": 14
        }
      ]
    },
    {
      "cell_type": "code",
      "source": [
        "from typing import AwaitableGenerator\n",
        "arr.sort)\n",
        "AwaitableGenerator"
      ],
      "metadata": {
        "colab": {
          "base_uri": "https://localhost:8080/",
          "height": 136
        },
        "id": "tmUJo8I_4Wd_",
        "outputId": "161aa364-4b4d-421e-b72a-3310ba6a7afd"
      },
      "execution_count": 15,
      "outputs": [
        {
          "output_type": "error",
          "ename": "SyntaxError",
          "evalue": "ignored",
          "traceback": [
            "\u001b[0;36m  File \u001b[0;32m\"<ipython-input-15-94338f9955c5>\"\u001b[0;36m, line \u001b[0;32m2\u001b[0m\n\u001b[0;31m    arr.sort)\u001b[0m\n\u001b[0m            ^\u001b[0m\n\u001b[0;31mSyntaxError\u001b[0m\u001b[0;31m:\u001b[0m invalid syntax\n"
          ]
        }
      ]
    },
    {
      "cell_type": "code",
      "source": [
        "arr.sort()\n",
        "arr"
      ],
      "metadata": {
        "colab": {
          "base_uri": "https://localhost:8080/"
        },
        "id": "OPcXOedz4bWM",
        "outputId": "f9ef02d2-d0b2-48c9-c011-b9c0ad3f44a3"
      },
      "execution_count": 16,
      "outputs": [
        {
          "output_type": "execute_result",
          "data": {
            "text/plain": [
              "[1, 2, 8]"
            ]
          },
          "metadata": {},
          "execution_count": 16
        }
      ]
    },
    {
      "cell_type": "code",
      "source": [
        "arr.reverse()\n",
        "arr"
      ],
      "metadata": {
        "colab": {
          "base_uri": "https://localhost:8080/"
        },
        "id": "NtT9pzqM4eI2",
        "outputId": "c95727a4-c6d7-42ef-f0ea-4f899ee017d9"
      },
      "execution_count": 17,
      "outputs": [
        {
          "output_type": "execute_result",
          "data": {
            "text/plain": [
              "[8, 2, 1]"
            ]
          },
          "metadata": {},
          "execution_count": 17
        }
      ]
    },
    {
      "cell_type": "code",
      "source": [
        "len(tup)"
      ],
      "metadata": {
        "colab": {
          "base_uri": "https://localhost:8080/"
        },
        "id": "YafeT7qH4h8l",
        "outputId": "7a350628-d1e7-415f-f62b-9b7e3da796e0"
      },
      "execution_count": 18,
      "outputs": [
        {
          "output_type": "execute_result",
          "data": {
            "text/plain": [
              "3"
            ]
          },
          "metadata": {},
          "execution_count": 18
        }
      ]
    },
    {
      "cell_type": "code",
      "source": [
        "tup+tup"
      ],
      "metadata": {
        "colab": {
          "base_uri": "https://localhost:8080/"
        },
        "id": "onJPlXMh6fCJ",
        "outputId": "9cf2a984-f835-4f39-afd0-76682edf9516"
      },
      "execution_count": 19,
      "outputs": [
        {
          "output_type": "execute_result",
          "data": {
            "text/plain": [
              "(1, 2, 3, 1, 2, 3)"
            ]
          },
          "metadata": {},
          "execution_count": 19
        }
      ]
    },
    {
      "cell_type": "code",
      "source": [
        "tup;[0:]"
      ],
      "metadata": {
        "colab": {
          "base_uri": "https://localhost:8080/",
          "height": 136
        },
        "id": "i9o_wZ3E6hsE",
        "outputId": "1290cb87-7867-4eb9-91be-1ad20857084d"
      },
      "execution_count": 20,
      "outputs": [
        {
          "output_type": "error",
          "ename": "SyntaxError",
          "evalue": "ignored",
          "traceback": [
            "\u001b[0;36m  File \u001b[0;32m\"<ipython-input-20-df3ae5084e73>\"\u001b[0;36m, line \u001b[0;32m1\u001b[0m\n\u001b[0;31m    tup;[0:]\u001b[0m\n\u001b[0m          ^\u001b[0m\n\u001b[0;31mSyntaxError\u001b[0m\u001b[0;31m:\u001b[0m invalid syntax\n"
          ]
        }
      ]
    },
    {
      "cell_type": "code",
      "source": [
        "#***** 인덱싱이 가능하다 == 값의 위치변환이 가능하다\n",
        "jjdon = ('짱구','유리','철수','훈이','멩구')\n",
        "\n",
        "#튜플에서 짱구와 철수 요소의 위치를 변환\n",
        "jjdon.index('짱구')\n",
        "jjdon.index('철수')\n",
        "\n",
        "#튜플에서 짱구요소의 개수\n",
        "jjdon.count('짱구')\n"
      ],
      "metadata": {
        "colab": {
          "base_uri": "https://localhost:8080/"
        },
        "id": "2CnjOwid7bCL",
        "outputId": "11aebbaf-9ac7-450f-e2ea-420cce608ef9"
      },
      "execution_count": 21,
      "outputs": [
        {
          "output_type": "execute_result",
          "data": {
            "text/plain": [
              "1"
            ]
          },
          "metadata": {},
          "execution_count": 21
        }
      ]
    },
    {
      "cell_type": "code",
      "source": [
        "list((jjdon)) # 튜플 -> 리스트\n",
        "tuple((arr)) # 리스트 -> 튜플"
      ],
      "metadata": {
        "colab": {
          "base_uri": "https://localhost:8080/"
        },
        "id": "xm6_0n3l8kOp",
        "outputId": "4e7ca1eb-f6e3-4338-9d72-3f9317e1c02c"
      },
      "execution_count": 22,
      "outputs": [
        {
          "output_type": "execute_result",
          "data": {
            "text/plain": [
              "(8, 2, 1)"
            ]
          },
          "metadata": {},
          "execution_count": 22
        }
      ]
    },
    {
      "cell_type": "code",
      "source": [
        "cap = {'Korea':'Seoul',\n",
        "        'USA':'Wasinto',\n",
        "       'UK':'London',\n",
        "       'France':'Paris',\n",
        "       }\n",
        "print(cap)\n",
        "cap.update({'Germany':'Berlin'})\n",
        "print(cap)\n",
        "cap.pop('Germany')\n",
        "print(cap)\n",
        "len(cap)\n",
        "\n",
        "# 키와 벨류를 모두 반환\n",
        "print(cap.items())\n",
        "\n",
        "#키를 반환\n",
        "print(cap.keys())\n",
        "\n",
        "#벨류를 반환\n",
        "print(cap.values())\n",
        "\n",
        "#원하는 값? 반환\n",
        "print(cap.get('Korea',))"
      ],
      "metadata": {
        "colab": {
          "base_uri": "https://localhost:8080/"
        },
        "id": "Uv0ZciYU8_YO",
        "outputId": "eeaa2a29-bbf4-40ec-94bc-797d9bf9d4b9"
      },
      "execution_count": 27,
      "outputs": [
        {
          "output_type": "stream",
          "name": "stdout",
          "text": [
            "{'Korea': 'Seoul', 'USA': 'Wasinto', 'UK': 'London', 'France': 'Paris'}\n",
            "{'Korea': 'Seoul', 'USA': 'Wasinto', 'UK': 'London', 'France': 'Paris', 'Germany': 'Berlin'}\n",
            "{'Korea': 'Seoul', 'USA': 'Wasinto', 'UK': 'London', 'France': 'Paris'}\n",
            "dict_items([('Korea', 'Seoul'), ('USA', 'Wasinto'), ('UK', 'London'), ('France', 'Paris')])\n",
            "dict_keys(['Korea', 'USA', 'UK', 'France'])\n",
            "dict_values(['Seoul', 'Wasinto', 'London', 'Paris'])\n",
            "Seoul\n"
          ]
        }
      ]
    },
    {
      "cell_type": "code",
      "source": [
        ""
      ],
      "metadata": {
        "id": "RjOtGDoHCQgU"
      },
      "execution_count": null,
      "outputs": []
    },
    {
      "cell_type": "code",
      "source": [
        "num = {}\n",
        "num['one']='하나'\n",
        "num['two']='둘'\n",
        "num['three']='셋'\n",
        "\n",
        "word = input('단어입력 (영어): ')\n",
        "print(num[word])"
      ],
      "metadata": {
        "colab": {
          "base_uri": "https://localhost:8080/"
        },
        "id": "l3ODQYFl-xaX",
        "outputId": "b02f3a3a-fe1d-44f0-f452-4fc0e10cb65e"
      },
      "execution_count": 26,
      "outputs": [
        {
          "output_type": "stream",
          "name": "stdout",
          "text": [
            "단어입력 (영어): one\n",
            "하나\n"
          ]
        }
      ]
    },
    {
      "cell_type": "code",
      "source": [
        "wf = {'Korea':'김치',\n",
        "      'USA':'핫도그',\n",
        "      'UK':'하몽',\n",
        "      'france':'푸아그라',\n",
        "      }\n",
        "\n",
        "print(wf.get('Korea',))"
      ],
      "metadata": {
        "colab": {
          "base_uri": "https://localhost:8080/"
        },
        "id": "_1oQ2KFyBFqU",
        "outputId": "ae0b8068-9468-4b8d-a827-b369488416e5"
      },
      "execution_count": 34,
      "outputs": [
        {
          "output_type": "stream",
          "name": "stdout",
          "text": [
            "김치\n"
          ]
        }
      ]
    }
  ]
}