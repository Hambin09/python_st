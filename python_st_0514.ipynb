{
  "nbformat": 4,
  "nbformat_minor": 0,
  "metadata": {
    "colab": {
      "name": "python_st_0514.ipynb",
      "provenance": [],
      "collapsed_sections": []
    },
    "kernelspec": {
      "name": "python3",
      "display_name": "Python 3"
    },
    "language_info": {
      "name": "python"
    }
  },
  "cells": [
    {
      "cell_type": "code",
      "execution_count": null,
      "metadata": {
        "colab": {
          "base_uri": "https://localhost:8080/"
        },
        "id": "xhy1M5-YylZn",
        "outputId": "c5bcfc15-810b-436c-8ce8-cc3c84ae537b"
      },
      "outputs": [
        {
          "output_type": "stream",
          "name": "stdout",
          "text": [
            "{1, 2, 3, 4}\n"
          ]
        }
      ],
      "source": [
        "s1 = {1,2,3,4}\n",
        "#s1에 집합 선언\n",
        "s2 = {}\n",
        "type(s2)\n",
        "str1 = '1111122222233333444444555559999999999999999999999999222222222222222222'\n",
        "set(str1)\n",
        "s1 = {1,1,1,1,1,1,2,2,2,2,2,2,3,3,3,3,3,4,4,4,4,4}\n",
        "print(s1)\n",
        "#set 자료형은 중복을 허용하지않는다(중요!)"
      ]
    },
    {
      "cell_type": "code",
      "source": [
        "a = {1,2,3,4}\n",
        "b = {5,6}\n",
        "#a.add(5)\n",
        "#a.remove(5)\n",
        "#a.pop()\n",
        "#a.pop()\n",
        "#a.pop()\n",
        "#a.pop()\n",
        "#a.pop()\n",
        "a.update(b)\n",
        "print(a)"
      ],
      "metadata": {
        "colab": {
          "base_uri": "https://localhost:8080/"
        },
        "id": "xuRScJ2N0PMF",
        "outputId": "67c893f1-f7b9-4899-e2ef-3a3130c0e64c"
      },
      "execution_count": null,
      "outputs": [
        {
          "output_type": "stream",
          "name": "stdout",
          "text": [
            "{1, 2, 3, 4, 5, 6}\n"
          ]
        }
      ]
    },
    {
      "cell_type": "code",
      "source": [
        "a = {1,2,3,4}\n",
        "b = {3,4,5,6}\n",
        "print(a.union(b)) #합집합"
      ],
      "metadata": {
        "colab": {
          "base_uri": "https://localhost:8080/"
        },
        "id": "2GcvCGH81OwF",
        "outputId": "af9c6d92-234d-42b0-d0a5-bc2e74b838a8"
      },
      "execution_count": null,
      "outputs": [
        {
          "output_type": "stream",
          "name": "stdout",
          "text": [
            "{1, 2, 3, 4, 5, 6}\n"
          ]
        }
      ]
    },
    {
      "cell_type": "code",
      "source": [
        "a = {1,2,3,4}\n",
        "b = {3,4,5,6}\n",
        "print(a.intersection(b)) #교집합"
      ],
      "metadata": {
        "colab": {
          "base_uri": "https://localhost:8080/"
        },
        "id": "w9mFMmsJ0b2p",
        "outputId": "e1d03e87-b3a3-4676-dc2a-a5a0498de953"
      },
      "execution_count": null,
      "outputs": [
        {
          "output_type": "stream",
          "name": "stdout",
          "text": [
            "{3, 4}\n"
          ]
        }
      ]
    },
    {
      "cell_type": "code",
      "source": [
        "a = {1,2,3,4}\n",
        "b = {3,4,5,6}\n",
        "print(a-b)\n",
        "print(a & b)\n",
        "print(a ^ b)"
      ],
      "metadata": {
        "colab": {
          "base_uri": "https://localhost:8080/"
        },
        "id": "Y5kNgCIj17hT",
        "outputId": "50b4b068-f880-4541-d553-e59a55f00b01"
      },
      "execution_count": null,
      "outputs": [
        {
          "output_type": "stream",
          "name": "stdout",
          "text": [
            "{1, 2}\n",
            "{3, 4}\n",
            "{1, 2, 5, 6}\n"
          ]
        }
      ]
    },
    {
      "cell_type": "code",
      "source": [
        "a = {1,2,3,4}\n",
        "b = {3,4,5,6}\n",
        "print(a.issubset(b))\n"
      ],
      "metadata": {
        "colab": {
          "base_uri": "https://localhost:8080/"
        },
        "id": "pF-SoIQd2eEy",
        "outputId": "6d30c397-c836-4640-8822-b2c5a08fb54a"
      },
      "execution_count": null,
      "outputs": [
        {
          "output_type": "stream",
          "name": "stdout",
          "text": [
            "False\n"
          ]
        }
      ]
    },
    {
      "cell_type": "code",
      "source": [
        "for el in {1,2,3,4}:\n",
        "  print(el)"
      ],
      "metadata": {
        "colab": {
          "base_uri": "https://localhost:8080/"
        },
        "id": "8OdZ_zqN2vV_",
        "outputId": "5f5e52ca-2aa4-498b-b3e6-8c763bd9b423"
      },
      "execution_count": null,
      "outputs": [
        {
          "output_type": "stream",
          "name": "stdout",
          "text": [
            "1\n",
            "2\n",
            "3\n",
            "4\n"
          ]
        }
      ]
    },
    {
      "cell_type": "code",
      "source": [
        "1 in {1,2,3}"
      ],
      "metadata": {
        "colab": {
          "base_uri": "https://localhost:8080/"
        },
        "id": "bmpI7niG23Oj",
        "outputId": "5f2e5813-1062-4f61-b17f-759a9b528bd3"
      },
      "execution_count": null,
      "outputs": [
        {
          "output_type": "execute_result",
          "data": {
            "text/plain": [
              "True"
            ]
          },
          "metadata": {},
          "execution_count": 12
        }
      ]
    },
    {
      "cell_type": "code",
      "source": [
        "4 in {1,2,3}"
      ],
      "metadata": {
        "colab": {
          "base_uri": "https://localhost:8080/"
        },
        "id": "SDim5TIL29Pj",
        "outputId": "a6e9bb65-6985-4395-bbeb-bd4c059bdaff"
      },
      "execution_count": null,
      "outputs": [
        {
          "output_type": "execute_result",
          "data": {
            "text/plain": [
              "False"
            ]
          },
          "metadata": {},
          "execution_count": 14
        }
      ]
    },
    {
      "cell_type": "code",
      "source": [
        "len({1,2,3,4,5,5,122,2,12,12})"
      ],
      "metadata": {
        "colab": {
          "base_uri": "https://localhost:8080/"
        },
        "id": "E7OW-mDO2_jV",
        "outputId": "751c64c4-b801-48ce-dc71-18ce1b7730d4"
      },
      "execution_count": null,
      "outputs": [
        {
          "output_type": "execute_result",
          "data": {
            "text/plain": [
              "7"
            ]
          },
          "metadata": {},
          "execution_count": 15
        }
      ]
    },
    {
      "cell_type": "code",
      "source": [
        "print(max(a))\n",
        "print(min(b))"
      ],
      "metadata": {
        "colab": {
          "base_uri": "https://localhost:8080/"
        },
        "id": "kZoQ8_a83KFW",
        "outputId": "751fb54f-1b0f-498e-b575-d604f6ba00c5"
      },
      "execution_count": null,
      "outputs": [
        {
          "output_type": "stream",
          "name": "stdout",
          "text": [
            "4\n",
            "3\n"
          ]
        }
      ]
    },
    {
      "cell_type": "code",
      "source": [
        "print('정수를 입력받아 3을 곱한값을 출력하는 계산기 만들기')\n",
        "input_num = int(input('정수를 입력하시오'))\n",
        "print(input_num*3)"
      ],
      "metadata": {
        "colab": {
          "base_uri": "https://localhost:8080/",
          "height": 245
        },
        "id": "DQ5T0htN3Twh",
        "outputId": "0d3e55f2-3634-4c01-8e5d-556f1de46315"
      },
      "execution_count": null,
      "outputs": [
        {
          "name": "stdout",
          "output_type": "stream",
          "text": [
            "정수를 입력받아 3을 곱한값을 출력하는 계산기 만들기\n",
            "정수를 입력하시오동탄 사우나 수건도둑 엄준식\n"
          ]
        },
        {
          "output_type": "error",
          "ename": "ValueError",
          "evalue": "ignored",
          "traceback": [
            "\u001b[0;31m---------------------------------------------------------------------------\u001b[0m",
            "\u001b[0;31mValueError\u001b[0m                                Traceback (most recent call last)",
            "\u001b[0;32m<ipython-input-17-9bbe62c19ddb>\u001b[0m in \u001b[0;36m<module>\u001b[0;34m()\u001b[0m\n\u001b[1;32m      1\u001b[0m \u001b[0mprint\u001b[0m\u001b[0;34m(\u001b[0m\u001b[0;34m'정수를 입력받아 3을 곱한값을 출력하는 계산기 만들기'\u001b[0m\u001b[0;34m)\u001b[0m\u001b[0;34m\u001b[0m\u001b[0;34m\u001b[0m\u001b[0m\n\u001b[0;32m----> 2\u001b[0;31m \u001b[0minput_num\u001b[0m \u001b[0;34m=\u001b[0m \u001b[0mint\u001b[0m\u001b[0;34m(\u001b[0m\u001b[0minput\u001b[0m\u001b[0;34m(\u001b[0m\u001b[0;34m'정수를 입력하시오'\u001b[0m\u001b[0;34m)\u001b[0m\u001b[0;34m)\u001b[0m\u001b[0;34m\u001b[0m\u001b[0;34m\u001b[0m\u001b[0m\n\u001b[0m\u001b[1;32m      3\u001b[0m \u001b[0mprint\u001b[0m\u001b[0;34m(\u001b[0m\u001b[0minput_num\u001b[0m\u001b[0;34m*\u001b[0m\u001b[0;36m3\u001b[0m\u001b[0;34m)\u001b[0m\u001b[0;34m\u001b[0m\u001b[0;34m\u001b[0m\u001b[0m\n",
            "\u001b[0;31mValueError\u001b[0m: invalid literal for int() with base 10: '동탄 사우나 수건도둑 엄준식'"
          ]
        }
      ]
    },
    {
      "cell_type": "code",
      "source": [
        "print('정수를 입력받아 3을 곱한값을 출력하는 계산기 만들기')\n",
        "input_num = input('정수를 입력하시오: ')\n",
        "if not input_num.isnumeric():\n",
        "  print('정수만 입력하시오. 입력한값: {}'.format(input_num))\n",
        "else:\n",
        "  input_num = int(input_num)\n",
        "  print(input_num * 3)"
      ],
      "metadata": {
        "colab": {
          "base_uri": "https://localhost:8080/"
        },
        "id": "GwMApGUC4pDl",
        "outputId": "54928868-78a8-4cc4-f801-089ba72c90d4"
      },
      "execution_count": null,
      "outputs": [
        {
          "output_type": "stream",
          "name": "stdout",
          "text": [
            "정수를 입력받아 3을 곱한값을 출력하는 계산기 만들기\n",
            "정수를 입력하시오: 메롱\n",
            "정수만 입력하시오. 입력한값: 메롱\n"
          ]
        }
      ]
    },
    {
      "cell_type": "code",
      "source": [
        "print('정수를 입력받아 5를 곱한값을 출력하는 계산기')\n",
        "inum = input('정수를 입력하시오: ')\n",
        "if not inum."
      ],
      "metadata": {
        "id": "1h5hylaQ4jUc"
      },
      "execution_count": null,
      "outputs": []
    },
    {
      "cell_type": "code",
      "source": [
        "assert 1>0 , '1이 0보다 큽니다'"
      ],
      "metadata": {
        "id": "6UYzskTZ61bS"
      },
      "execution_count": null,
      "outputs": []
    },
    {
      "cell_type": "code",
      "source": [
        "assert 1<0 , '1이 0보다 큽니다'"
      ],
      "metadata": {
        "colab": {
          "base_uri": "https://localhost:8080/",
          "height": 172
        },
        "id": "imWe49I_7FSw",
        "outputId": "494460b7-cd80-4e8e-e969-e2f2a6713db5"
      },
      "execution_count": null,
      "outputs": [
        {
          "output_type": "error",
          "ename": "AssertionError",
          "evalue": "ignored",
          "traceback": [
            "\u001b[0;31m---------------------------------------------------------------------------\u001b[0m",
            "\u001b[0;31mAssertionError\u001b[0m                            Traceback (most recent call last)",
            "\u001b[0;32m<ipython-input-21-37246a8f2b3b>\u001b[0m in \u001b[0;36m<module>\u001b[0;34m()\u001b[0m\n\u001b[0;32m----> 1\u001b[0;31m \u001b[0;32massert\u001b[0m \u001b[0;36m1\u001b[0m\u001b[0;34m<\u001b[0m\u001b[0;36m0\u001b[0m \u001b[0;34m,\u001b[0m \u001b[0;34m'1이 0보다 큽니다'\u001b[0m\u001b[0;34m\u001b[0m\u001b[0;34m\u001b[0m\u001b[0m\n\u001b[0m",
            "\u001b[0;31mAssertionError\u001b[0m: 1이 0보다 큽니다"
          ]
        }
      ]
    },
    {
      "cell_type": "code",
      "source": [
        "print('정수를 입력받아 3을 곱한값을 출력하는 계산기 만들기')\n",
        "input_num = input('정수를 입력하시오: ')\n",
        "assert input_num.isnumeric(),'정수만 입력하시오. 입력한값: {}'.format(input_num)\n",
        "number = int(input_num)\n",
        "print(number * 3)"
      ],
      "metadata": {
        "colab": {
          "base_uri": "https://localhost:8080/",
          "height": 281
        },
        "id": "uVxUL_cI7K6_",
        "outputId": "df1a0f4a-30b8-4e51-fb1b-f815d72ff939"
      },
      "execution_count": null,
      "outputs": [
        {
          "name": "stdout",
          "output_type": "stream",
          "text": [
            "정수를 입력받아 3을 곱한값을 출력하는 계산기 만들기\n",
            "정수를 입력하시오: 동탄\n"
          ]
        },
        {
          "output_type": "error",
          "ename": "AssertionError",
          "evalue": "ignored",
          "traceback": [
            "\u001b[0;31m---------------------------------------------------------------------------\u001b[0m",
            "\u001b[0;31mAssertionError\u001b[0m                            Traceback (most recent call last)",
            "\u001b[0;32m<ipython-input-24-a8897bc5f46f>\u001b[0m in \u001b[0;36m<module>\u001b[0;34m()\u001b[0m\n\u001b[1;32m      1\u001b[0m \u001b[0mprint\u001b[0m\u001b[0;34m(\u001b[0m\u001b[0;34m'정수를 입력받아 3을 곱한값을 출력하는 계산기 만들기'\u001b[0m\u001b[0;34m)\u001b[0m\u001b[0;34m\u001b[0m\u001b[0;34m\u001b[0m\u001b[0m\n\u001b[1;32m      2\u001b[0m \u001b[0minput_num\u001b[0m \u001b[0;34m=\u001b[0m \u001b[0minput\u001b[0m\u001b[0;34m(\u001b[0m\u001b[0;34m'정수를 입력하시오: '\u001b[0m\u001b[0;34m)\u001b[0m\u001b[0;34m\u001b[0m\u001b[0;34m\u001b[0m\u001b[0m\n\u001b[0;32m----> 3\u001b[0;31m \u001b[0;32massert\u001b[0m \u001b[0minput_num\u001b[0m\u001b[0;34m.\u001b[0m\u001b[0misnumeric\u001b[0m\u001b[0;34m(\u001b[0m\u001b[0;34m)\u001b[0m\u001b[0;34m,\u001b[0m\u001b[0;34m'정수만 입력하시오. 입력한값: {}'\u001b[0m\u001b[0;34m.\u001b[0m\u001b[0mformat\u001b[0m\u001b[0;34m(\u001b[0m\u001b[0minput_num\u001b[0m\u001b[0;34m)\u001b[0m\u001b[0;34m\u001b[0m\u001b[0;34m\u001b[0m\u001b[0m\n\u001b[0m\u001b[1;32m      4\u001b[0m \u001b[0mnumber\u001b[0m \u001b[0;34m=\u001b[0m \u001b[0mint\u001b[0m\u001b[0;34m(\u001b[0m\u001b[0minput_num\u001b[0m\u001b[0;34m)\u001b[0m\u001b[0;34m\u001b[0m\u001b[0;34m\u001b[0m\u001b[0m\n\u001b[1;32m      5\u001b[0m \u001b[0mprint\u001b[0m\u001b[0;34m(\u001b[0m\u001b[0mnumber\u001b[0m \u001b[0;34m*\u001b[0m \u001b[0;36m3\u001b[0m\u001b[0;34m)\u001b[0m\u001b[0;34m\u001b[0m\u001b[0;34m\u001b[0m\u001b[0m\n",
            "\u001b[0;31mAssertionError\u001b[0m: 정수만 입력하시오. 입력한값: 동탄"
          ]
        }
      ]
    },
    {
      "cell_type": "code",
      "source": [
        "#try:\n",
        "  #코드 1\n",
        "#except:\n",
        "  #코드 2"
      ],
      "metadata": {
        "id": "wQHo5BNT7hDv"
      },
      "execution_count": null,
      "outputs": []
    },
    {
      "cell_type": "code",
      "source": [
        "try:\n",
        "  print('동아리지 100만원을 입력한 정수 만큼의 인원으로 나뉘어 주세요')\n",
        "  Dong_H= int(input('나눌인원을 입력해주세요: '))\n",
        "  print('한사람당 {}만원을 가집니다'.format(100/Dong_H))\n",
        "except(ValueError,ZeroDivisionError):\n",
        "  print('왜 또 동탄사우나수건도둑엄준식을 일력하시나요? 제정신인가요?')\n",
        "  print('0을 제외한 숫자를 입력해주세요')"
      ],
      "metadata": {
        "colab": {
          "base_uri": "https://localhost:8080/"
        },
        "id": "6S9K_tNI8Q3L",
        "outputId": "f68d6e05-e3c3-42bb-f121-ba42e4d7d1ad"
      },
      "execution_count": null,
      "outputs": [
        {
          "output_type": "stream",
          "name": "stdout",
          "text": [
            "동아리지 100만원을 입력한 정수 만큼의 인원으로 나뉘어 주세요\n",
            "나눌인원을 입력해주세요: 10\n",
            "한사람당 10.0만원을 가집니다\n"
          ]
        }
      ]
    },
    {
      "cell_type": "code",
      "source": [
        "10/0"
      ],
      "metadata": {
        "colab": {
          "base_uri": "https://localhost:8080/",
          "height": 172
        },
        "id": "29LoKZUY88zW",
        "outputId": "9041f7c4-8707-43bf-f8ac-b4eff5e19100"
      },
      "execution_count": null,
      "outputs": [
        {
          "output_type": "error",
          "ename": "ZeroDivisionError",
          "evalue": "ignored",
          "traceback": [
            "\u001b[0;31m---------------------------------------------------------------------------\u001b[0m",
            "\u001b[0;31mZeroDivisionError\u001b[0m                         Traceback (most recent call last)",
            "\u001b[0;32m<ipython-input-29-e574edb36883>\u001b[0m in \u001b[0;36m<module>\u001b[0;34m()\u001b[0m\n\u001b[0;32m----> 1\u001b[0;31m \u001b[0;36m10\u001b[0m\u001b[0;34m/\u001b[0m\u001b[0;36m0\u001b[0m\u001b[0;34m\u001b[0m\u001b[0;34m\u001b[0m\u001b[0m\n\u001b[0m",
            "\u001b[0;31mZeroDivisionError\u001b[0m: division by zero"
          ]
        }
      ]
    },
    {
      "cell_type": "code",
      "source": [
        "mem_10 = []\n",
        "for n in range(1,10+1):\n",
        "  mem_10.append(n)\n",
        "print(mem_10)"
      ],
      "metadata": {
        "colab": {
          "base_uri": "https://localhost:8080/"
        },
        "id": "HdqWx5H-9X0c",
        "outputId": "4a698a16-36ed-452f-b681-01e5a61219ed"
      },
      "execution_count": null,
      "outputs": [
        {
          "output_type": "stream",
          "name": "stdout",
          "text": [
            "[1, 2, 3, 4, 5, 6, 7, 8, 9, 10]\n"
          ]
        }
      ]
    },
    {
      "cell_type": "code",
      "source": [
        "[x for x in range(10+1)]\n",
        "[2*x for x in range(1,10+1)]\n",
        "[x for x in range(1,10+1) if x % 2 ==0]"
      ],
      "metadata": {
        "colab": {
          "base_uri": "https://localhost:8080/"
        },
        "id": "lEcvXVkJ_Z8g",
        "outputId": "75502913-8820-4029-c7c0-865a1162c1f4"
      },
      "execution_count": null,
      "outputs": [
        {
          "output_type": "execute_result",
          "data": {
            "text/plain": [
              "[2, 4, 6, 8, 10]"
            ]
          },
          "metadata": {},
          "execution_count": 34
        }
      ]
    },
    {
      "cell_type": "code",
      "source": [
        "[(x,y,z)for x in['부대찌개','치킨','라면']for y in ['콜라 한캔','아이스크림','사과주스','커피']for z in ['포장','매장','배달']]"
      ],
      "metadata": {
        "colab": {
          "base_uri": "https://localhost:8080/"
        },
        "id": "tt_riRcK_kmv",
        "outputId": "9b8c63e1-0eb4-48e9-ce6c-d8c6004f0fff"
      },
      "execution_count": null,
      "outputs": [
        {
          "output_type": "execute_result",
          "data": {
            "text/plain": [
              "[('부대찌개', '콜라 한캔', '포장'),\n",
              " ('부대찌개', '콜라 한캔', '매장'),\n",
              " ('부대찌개', '콜라 한캔', '배달'),\n",
              " ('부대찌개', '아이스크림', '포장'),\n",
              " ('부대찌개', '아이스크림', '매장'),\n",
              " ('부대찌개', '아이스크림', '배달'),\n",
              " ('부대찌개', '사과주스', '포장'),\n",
              " ('부대찌개', '사과주스', '매장'),\n",
              " ('부대찌개', '사과주스', '배달'),\n",
              " ('부대찌개', '커피', '포장'),\n",
              " ('부대찌개', '커피', '매장'),\n",
              " ('부대찌개', '커피', '배달'),\n",
              " ('치킨', '콜라 한캔', '포장'),\n",
              " ('치킨', '콜라 한캔', '매장'),\n",
              " ('치킨', '콜라 한캔', '배달'),\n",
              " ('치킨', '아이스크림', '포장'),\n",
              " ('치킨', '아이스크림', '매장'),\n",
              " ('치킨', '아이스크림', '배달'),\n",
              " ('치킨', '사과주스', '포장'),\n",
              " ('치킨', '사과주스', '매장'),\n",
              " ('치킨', '사과주스', '배달'),\n",
              " ('치킨', '커피', '포장'),\n",
              " ('치킨', '커피', '매장'),\n",
              " ('치킨', '커피', '배달'),\n",
              " ('라면', '콜라 한캔', '포장'),\n",
              " ('라면', '콜라 한캔', '매장'),\n",
              " ('라면', '콜라 한캔', '배달'),\n",
              " ('라면', '아이스크림', '포장'),\n",
              " ('라면', '아이스크림', '매장'),\n",
              " ('라면', '아이스크림', '배달'),\n",
              " ('라면', '사과주스', '포장'),\n",
              " ('라면', '사과주스', '매장'),\n",
              " ('라면', '사과주스', '배달'),\n",
              " ('라면', '커피', '포장'),\n",
              " ('라면', '커피', '매장'),\n",
              " ('라면', '커피', '배달')]"
            ]
          },
          "metadata": {},
          "execution_count": 37
        }
      ]
    },
    {
      "cell_type": "code",
      "source": [
        "for x in ['부찌','치킨','라면']:\n",
        "  for y in ['커피','아이스크림','콜라 한캔','사과주스']:\n",
        "    for z in ['배달','포장','매장']:\n",
        "      print(x,y,z)"
      ],
      "metadata": {
        "colab": {
          "base_uri": "https://localhost:8080/"
        },
        "id": "6X5vpcYSALya",
        "outputId": "54204e72-b30e-4f0a-d247-1da86ae1d059"
      },
      "execution_count": null,
      "outputs": [
        {
          "output_type": "stream",
          "name": "stdout",
          "text": [
            "부찌 커피 배달\n",
            "부찌 커피 포장\n",
            "부찌 커피 매장\n",
            "부찌 아이스크림 배달\n",
            "부찌 아이스크림 포장\n",
            "부찌 아이스크림 매장\n",
            "부찌 콜라 한캔 배달\n",
            "부찌 콜라 한캔 포장\n",
            "부찌 콜라 한캔 매장\n",
            "부찌 사과주스 배달\n",
            "부찌 사과주스 포장\n",
            "부찌 사과주스 매장\n",
            "치킨 커피 배달\n",
            "치킨 커피 포장\n",
            "치킨 커피 매장\n",
            "치킨 아이스크림 배달\n",
            "치킨 아이스크림 포장\n",
            "치킨 아이스크림 매장\n",
            "치킨 콜라 한캔 배달\n",
            "치킨 콜라 한캔 포장\n",
            "치킨 콜라 한캔 매장\n",
            "치킨 사과주스 배달\n",
            "치킨 사과주스 포장\n",
            "치킨 사과주스 매장\n",
            "라면 커피 배달\n",
            "라면 커피 포장\n",
            "라면 커피 매장\n",
            "라면 아이스크림 배달\n",
            "라면 아이스크림 포장\n",
            "라면 아이스크림 매장\n",
            "라면 콜라 한캔 배달\n",
            "라면 콜라 한캔 포장\n",
            "라면 콜라 한캔 매장\n",
            "라면 사과주스 배달\n",
            "라면 사과주스 포장\n",
            "라면 사과주스 매장\n"
          ]
        }
      ]
    },
    {
      "cell_type": "code",
      "source": [
        "[x for x in range(10) if 5 <& 2 ]"
      ],
      "metadata": {
        "id": "nCXeLulaA_bP"
      },
      "execution_count": null,
      "outputs": []
    }
  ]
}